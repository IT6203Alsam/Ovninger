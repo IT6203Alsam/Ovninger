{
 "cells": [
  {
   "cell_type": "markdown",
   "metadata": {},
   "source": [
    "# Øving 2:  Repetisjonsstrukturer og betingelser"
   ]
  },
  {
   "cell_type": "markdown",
   "metadata": {},
   "source": [
    "VIKTIG!\n",
    "\n",
    "Minst 4 av 6 oppgaver må løses for å få godkjent øvingen.\n",
    "Dersom ikke annet er oppgitt skal koden for hver programmeringsoppgave bestå av èn celle med hele programkoder.\n",
    "\n",
    "\n",
    "Celler med \"[ ]:\" foran er kode-celler som kan kjøre kode. Ellers er cellene tekstbokser.\n",
    "En celle (både tekst og kode) kjøres hvis du markerer den og trykker SHIFT+ENTER. Se guide for utfyllende informasjon om hvordan man bruker jupyter notebooks.\n",
    "\n",
    "Last ned øvingen fra jupyter til din pc som .ipynb-fil (se guide) og last den opp i Blackboard for å levere den. "
   ]
  },
  {
   "cell_type": "markdown",
   "metadata": {},
   "source": [
    "## Oppgave 1"
   ]
  },
  {
   "cell_type": "markdown",
   "metadata": {
    "tags": []
   },
   "source": [
    "### Del 1.1\n",
    "\n",
    "Koden under gjentar en operasjon mange ganger ut fra input fra bruker. Skriv om programmet slik at det bruker en for-løkke og en funksjon istedetfor."
   ]
  },
  {
   "cell_type": "code",
   "execution_count": 15,
   "metadata": {
    "tags": []
   },
   "outputs": [
    {
     "name": "stdout",
     "output_type": "stream",
     "text": [
      "Dette programmet viser resultater fra den lille gangetabellen. Du kan gjøre fem multiplikasjoner.\n",
      "Runde 1\n"
     ]
    },
    {
     "name": "stdin",
     "output_type": "stream",
     "text": [
      "Skriv inn et tall mellom 1-10: 2\n",
      "Skriv inn et tall mellom 1-10 5\n"
     ]
    },
    {
     "name": "stdout",
     "output_type": "stream",
     "text": [
      "Runde 2\n",
      "Resultatet av 2 x 5 er 10\n"
     ]
    },
    {
     "name": "stdin",
     "output_type": "stream",
     "text": [
      "Skriv inn et tall mellom 1-10: 1\n",
      "Skriv inn et tall mellom 1-10 7\n"
     ]
    },
    {
     "name": "stdout",
     "output_type": "stream",
     "text": [
      "Resultatet av 1 x 7 er 7\n",
      "Runde 3\n"
     ]
    },
    {
     "name": "stdin",
     "output_type": "stream",
     "text": [
      "Skriv inn et tall mellom 1-10: 3\n",
      "Skriv inn et tall mellom 1-10 6\n"
     ]
    },
    {
     "name": "stdout",
     "output_type": "stream",
     "text": [
      "Runde 4\n",
      "Resultatet av 3 x 6 er 18\n"
     ]
    },
    {
     "name": "stdin",
     "output_type": "stream",
     "text": [
      "Skriv inn et tall mellom 1-10: 3\n",
      "Skriv inn et tall mellom 1-10 \n"
     ]
    },
    {
     "ename": "ValueError",
     "evalue": "invalid literal for int() with base 10: ''",
     "output_type": "error",
     "traceback": [
      "\u001b[0;31m---------------------------------------------------------------------------\u001b[0m",
      "\u001b[0;31mValueError\u001b[0m                                Traceback (most recent call last)",
      "\u001b[0;32m/tmp/ipykernel_71/2349972380.py\u001b[0m in \u001b[0;36m<module>\u001b[0;34m\u001b[0m\n\u001b[1;32m     40\u001b[0m \u001b[0mtall1\u001b[0m \u001b[0;34m=\u001b[0m \u001b[0mint\u001b[0m\u001b[0;34m(\u001b[0m\u001b[0minput\u001b[0m\u001b[0;34m(\u001b[0m\u001b[0;34m'Skriv inn et tall mellom 1-10:'\u001b[0m\u001b[0;34m)\u001b[0m\u001b[0;34m)\u001b[0m\u001b[0;34m\u001b[0m\u001b[0;34m\u001b[0m\u001b[0m\n\u001b[1;32m     41\u001b[0m \u001b[0;34m\u001b[0m\u001b[0m\n\u001b[0;32m---> 42\u001b[0;31m \u001b[0mtall2\u001b[0m \u001b[0;34m=\u001b[0m \u001b[0mint\u001b[0m\u001b[0;34m(\u001b[0m\u001b[0minput\u001b[0m\u001b[0;34m(\u001b[0m\u001b[0;34m'Skriv inn et tall mellom 1-10'\u001b[0m\u001b[0;34m)\u001b[0m\u001b[0;34m)\u001b[0m\u001b[0;34m\u001b[0m\u001b[0;34m\u001b[0m\u001b[0m\n\u001b[0m\u001b[1;32m     43\u001b[0m \u001b[0;34m\u001b[0m\u001b[0m\n\u001b[1;32m     44\u001b[0m \u001b[0mresultat\u001b[0m \u001b[0;34m=\u001b[0m \u001b[0mtall1\u001b[0m \u001b[0;34m*\u001b[0m \u001b[0mtall2\u001b[0m\u001b[0;34m\u001b[0m\u001b[0;34m\u001b[0m\u001b[0m\n",
      "\u001b[0;31mValueError\u001b[0m: invalid literal for int() with base 10: ''"
     ]
    }
   ],
   "source": [
    "## Del 1.1\n",
    "\n",
    "print('Dette programmet viser resultater fra den lille gangetabellen. Du kan gjøre fem multiplikasjoner.')\n",
    "\n",
    "print('Runde 1')\n",
    "\n",
    "tall1 = int(input('Skriv inn et tall mellom 1-10:'))\n",
    "\n",
    "tall2 = int(input('Skriv inn et tall mellom 1-10'))\n",
    "\n",
    "resultat = tall1 * tall2\n",
    "\n",
    "print(f'Resultatet av {tall1} x {tall2} er {resultat}')\n",
    "\n",
    "\n",
    "print('Runde 2')\n",
    "\n",
    "tall1 = int(input('Skriv inn et tall mellom 1-10:'))\n",
    "\n",
    "tall2 = int(input('Skriv inn et tall mellom 1-10'))\n",
    "\n",
    "resultat = tall1 * tall2\n",
    "\n",
    "print(f'Resultatet av {tall1} x {tall2} er {resultat}')\n",
    "\n",
    "\n",
    "print('Runde 3')\n",
    "\n",
    "tall1 = int(input('Skriv inn et tall mellom 1-10:'))\n",
    "\n",
    "tall2 = int(input('Skriv inn et tall mellom 1-10'))\n",
    "\n",
    "resultat = tall1 * tall2\n",
    "\n",
    "print(f'Resultatet av {tall1} x {tall2} er {resultat}')\n",
    "\n",
    "\n",
    "print('Runde 4')\n",
    "\n",
    "tall1 = int(input('Skriv inn et tall mellom 1-10:'))\n",
    "\n",
    "tall2 = int(input('Skriv inn et tall mellom 1-10'))\n",
    "\n",
    "resultat = tall1 * tall2\n",
    "\n",
    "print(f'Resultatet av {tall1} x {tall2} er {resultat}')\n",
    "\n",
    "\n",
    "print('Runde 5')\n",
    "\n",
    "tall1 = int(input('Skriv inn et tall mellom 1-10:'))\n",
    "\n",
    "tall2 = int(input('Skriv inn et tall mellom 1-10'))\n",
    "\n",
    "resultat = tall1 * tall2\n",
    "\n",
    "print(f'Resultatet av {tall1} x {tall2} er {resultat}')"
   ]
  },
  {
   "cell_type": "code",
   "execution_count": 20,
   "metadata": {},
   "outputs": [
    {
     "name": "stdout",
     "output_type": "stream",
     "text": [
      "Runde 1\n"
     ]
    },
    {
     "name": "stdin",
     "output_type": "stream",
     "text": [
      "Skriv inn et tall mellom 1-10: 4\n",
      "Skriv inn et tall mellom 1-10 5\n"
     ]
    },
    {
     "name": "stdout",
     "output_type": "stream",
     "text": [
      "Resultatet av 4 x 5 er 20\n",
      "Runde 2\n"
     ]
    },
    {
     "name": "stdin",
     "output_type": "stream",
     "text": [
      "Skriv inn et tall mellom 1-10: 3\n",
      "Skriv inn et tall mellom 1-10 2\n"
     ]
    },
    {
     "name": "stdout",
     "output_type": "stream",
     "text": [
      "Resultatet av 3 x 2 er 6\n",
      "Runde 3\n"
     ]
    },
    {
     "name": "stdin",
     "output_type": "stream",
     "text": [
      "Skriv inn et tall mellom 1-10: 2\n",
      "Skriv inn et tall mellom 1-10 7\n"
     ]
    },
    {
     "name": "stdout",
     "output_type": "stream",
     "text": [
      "Resultatet av 2 x 7 er 14\n",
      "Runde 4\n"
     ]
    },
    {
     "name": "stdin",
     "output_type": "stream",
     "text": [
      "Skriv inn et tall mellom 1-10: 9\n",
      "Skriv inn et tall mellom 1-10 9\n"
     ]
    },
    {
     "name": "stdout",
     "output_type": "stream",
     "text": [
      "Resultatet av 9 x 9 er 81\n",
      "Runde 5\n"
     ]
    },
    {
     "name": "stdin",
     "output_type": "stream",
     "text": [
      "Skriv inn et tall mellom 1-10: 8\n",
      "Skriv inn et tall mellom 1-10 9\n"
     ]
    },
    {
     "name": "stdout",
     "output_type": "stream",
     "text": [
      "Resultatet av 8 x 9 er 72\n"
     ]
    }
   ],
   "source": [
    "## Del 1.1 svar"
   ]
  },
  {
   "cell_type": "markdown",
   "metadata": {},
   "source": [
    "## Oppgave 2"
   ]
  },
  {
   "cell_type": "markdown",
   "metadata": {},
   "source": [
    "### Del 2.1 "
   ]
  },
  {
   "cell_type": "markdown",
   "metadata": {},
   "source": [
    "### Insektssamleren\n",
    "\n",
    "En entomolog skal skrive et program som lagrer informasjonen om lengden på larver fra en insektsart han skal forske på. Han trenger 15 målinger. For hver måling skal han få beskjed om hvor mange målinger som mangler før han har nok. Når han har nok målinger skal han få beskjed om det, listen med målinger skal skrives ut til konsoll og programmet avsluttes. Bruk gjerne funksjoner for å løse oppgaven.\n",
    "\n",
    "Hjelp entomologen å skrive programmet."
   ]
  },
  {
   "cell_type": "code",
   "execution_count": null,
   "metadata": {},
   "outputs": [],
   "source": [
    "## Del 2.1 svar"
   ]
  },
  {
   "cell_type": "markdown",
   "metadata": {
    "tags": []
   },
   "source": [
    "### Del 2.2"
   ]
  },
  {
   "cell_type": "markdown",
   "metadata": {},
   "source": [
    "Et busselskap ønsker å automatisk beregne pris på billetter ut fra aldersinformasjon og reiserute hentet inn fra kunden. \n",
    "Priser for standard billetter:\n",
    "\n",
    "Rute 1 (By - Sjø): 150,-\n",
    "\n",
    "Rute 2 (Sjø - Fjell): 250,-\n",
    "\n",
    "Rute 3 (Fjell - By): 50,-\n",
    "\n",
    "\n",
    "\n",
    "Aldersrabatter:\n",
    "\n",
    "0-2: Gratis\n",
    "\n",
    "2-16: -50 % \n",
    "\n",
    "16-65: Standard pris\n",
    "\n",
    "65 +: -65 %\n",
    "\n",
    "\n",
    "Skriv et program som gir brukeren riktig pris ut fra disse forutsetningene."
   ]
  },
  {
   "cell_type": "code",
   "execution_count": null,
   "metadata": {},
   "outputs": [],
   "source": [
    "## Del 2.2 svar\n"
   ]
  },
  {
   "cell_type": "markdown",
   "metadata": {},
   "source": [
    "### Del 2.3\n",
    "\n",
    "Hvorfor vil aldri \"resultat\" printes hvis følgende kode kjøres?"
   ]
  },
  {
   "cell_type": "code",
   "execution_count": null,
   "metadata": {},
   "outputs": [],
   "source": [
    "drue = 2\n",
    "rosin = 10\n",
    "\n",
    "while drue < rosin:\n",
    "    rosin += 1\n",
    "    resultat = rosin+drue\n",
    "    \n",
    "print(resultat)"
   ]
  },
  {
   "cell_type": "markdown",
   "metadata": {},
   "source": [
    "### Del 2.3 svar"
   ]
  },
  {
   "cell_type": "markdown",
   "metadata": {
    "tags": []
   },
   "source": [
    "### Del 2.4"
   ]
  },
  {
   "cell_type": "markdown",
   "metadata": {
    "tags": []
   },
   "source": [
    "#### True/false og betingelser - oddetall og partall.\n",
    "\n",
    "Programmet under tar inn et tall mellom 1-1000 fra bruker. Bruk av while-løkke til å fullføre koden slik at programmet fungerer. TIPS: innehenting av tall bra bruker må skje inni while-løkka.\n",
    "\n",
    "a) Finn ut om tallet er et oddetall eller et partall\n",
    "\n",
    "b) Ved True skal en counter for partall økes med 1. \n",
    "\n",
    "c) Skriv en setning til bruker med beskjed om tallet var et partall eller et oddetall.\n",
    "\n",
    "\n",
    "Til slutt skrives det til konsoll hvor mange tall brukeren skrev inn, og hvor mange av tallene om var partall."
   ]
  },
  {
   "cell_type": "code",
   "execution_count": null,
   "metadata": {},
   "outputs": [],
   "source": [
    "antPar = 0 # Initierer antall partall-counter\n",
    "antInput = 0 # Initierer counter for antall input\n",
    "ny = 'J' # Initierer kontrollstruktur for ny input\n",
    "    \n",
    "    ### Skriv din kode under denne linjen ###\n",
    "    \n",
    "    \n",
    "    \n",
    "    ### Skriv din kode over denne linjen ###\n",
    "        \n",
    "    ny = str(input('Vil du skrive inn et nytt tall? (J/N): ')) # Sjekker om programmet skal avsluttes eller startes på nytt\n",
    "    \n",
    "print('Du skrev inn ', antInput, 'tall, og', antPar, 'av dem var partall.') # Beskjed til bruker om antall forsøk og antall partall"
   ]
  },
  {
   "cell_type": "markdown",
   "metadata": {},
   "source": [
    "## Oppgave 3"
   ]
  },
  {
   "cell_type": "markdown",
   "metadata": {},
   "source": [
    "### Del 3.1\n",
    "\n",
    "*Stein-saks-papir!*\n",
    "\n",
    "Skriv et program med funksjoner som tar inn et tilfeldig valg mellom stein, saks og papir veg hjelp av random-biblioteket, og enten 'stein', 'saks' eller 'papir' fra bruker. Sammenlign valgene og sjekk hvem som vant ut fra følgende regler: \n",
    "\n",
    "Stein vs saks: stein vinner\n",
    "\n",
    "Stein vs papir: papir vinner\n",
    "\n",
    "Papir vs saks: saks vinner\n",
    "*\n",
    "Ved samme valg er det uavgjort.\n",
    "\n",
    "\n",
    "Skriv resultatet ut til konsoll."
   ]
  },
  {
   "cell_type": "code",
   "execution_count": null,
   "metadata": {},
   "outputs": [],
   "source": [
    "# Del 3.1 svar"
   ]
  }
 ],
 "metadata": {
  "kernelspec": {
   "display_name": "Python 3 (ipykernel)",
   "language": "python",
   "name": "python3"
  },
  "language_info": {
   "codemirror_mode": {
    "name": "ipython",
    "version": 3
   },
   "file_extension": ".py",
   "mimetype": "text/x-python",
   "name": "python",
   "nbconvert_exporter": "python",
   "pygments_lexer": "ipython3",
   "version": "3.9.7"
  },
  "toc": {
   "base_numbering": 1,
   "nav_menu": {},
   "number_sections": true,
   "sideBar": true,
   "skip_h1_title": false,
   "title_cell": "Table of Contents",
   "title_sidebar": "Contents",
   "toc_cell": false,
   "toc_position": {},
   "toc_section_display": true,
   "toc_window_display": false
  }
 },
 "nbformat": 4,
 "nbformat_minor": 4
}
