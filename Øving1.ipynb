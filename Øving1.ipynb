{
 "cells": [
  {
   "cell_type": "markdown",
   "metadata": {},
   "source": [
    "# Øving 1:  Grunnleggende syntaks, datatyper og operatorer"
   ]
  },
  {
   "cell_type": "markdown",
   "metadata": {},
   "source": [
    "VIKTIG!\n",
    "\n",
    "Minst 4 av 6 oppgaver må løses for å få godkjent øvingen.\n",
    "Dersom ikke annet er oppgitt skal koden for hver programmeringsoppgave bestå av èn celle med hele programkoder.\n",
    "\n",
    "\n",
    "Celler med \"[ ]:\" foran er kode-celler som kan kjøre kode. Ellers er cellene tekstbokser.\n",
    "En celle (både tekst og kode) kjøres hvis du markerer den og trykker SHIFT+ENTER. Se guide for utfyllende informasjon om hvordan man bruker jupyter notebooks.\n",
    "\n",
    "Last ned øvingen fra jupyter til din pc som .ipynb-fil (se guide) og last den opp i Blackboard for å levere den. "
   ]
  },
  {
   "cell_type": "markdown",
   "metadata": {},
   "source": [
    "## Oppgave 1"
   ]
  },
  {
   "cell_type": "markdown",
   "metadata": {
    "tags": []
   },
   "source": [
    "### Del 1.1"
   ]
  },
  {
   "cell_type": "markdown",
   "metadata": {},
   "source": [
    "a) Lagre tallet 1000 som heltall i en variabel\n",
    "\n",
    "b) Bruk heltallsdivisjon, og del tallet fra a) på 23\n",
    "\n",
    "c) Ta resultatet fra b) gang det med 23 igjen og print ut resultatet. Hvorfor blir ikke svaret 1000? Forklar hvorfor heltallsdivisjon kan være nyttig."
   ]
  },
  {
   "cell_type": "code",
   "execution_count": 1,
   "metadata": {},
   "outputs": [],
   "source": [
    "## Del 1.1 svar\n",
    "\n",
    "# a)\n",
    "\n",
    "\n",
    "\n",
    "# b) \n",
    "\n",
    "\n",
    "\n",
    "# c)\n",
    "\n"
   ]
  },
  {
   "cell_type": "markdown",
   "metadata": {},
   "source": [
    "## Oppgave 2 "
   ]
  },
  {
   "cell_type": "markdown",
   "metadata": {},
   "source": [
    "### Del 2.1 "
   ]
  },
  {
   "cell_type": "markdown",
   "metadata": {},
   "source": [
    "Skriv følgende regnestykker som python-kode og print ut resultatene.\n",
    "Bruk a), b) osv som variabelnavn. (feks a = 1+2(-3))\n",
    "\n",
    "a) 1+2(−3)\n",
    "\n",
    "b) ((3+5*2)+1)/2\n",
    "\n",
    "c) −3^2+5*3−7\n",
    "\n",
    "d) (−4)-3+5(3−7/2)\n",
    "\n",
    "e) 4((5+3)/2+7)"
   ]
  },
  {
   "cell_type": "code",
   "execution_count": 2,
   "metadata": {},
   "outputs": [
    {
     "ename": "SyntaxError",
     "evalue": "invalid syntax (827156166.py, line 3)",
     "output_type": "error",
     "traceback": [
      "\u001b[0;36m  File \u001b[0;32m\"/tmp/ipykernel_148/827156166.py\"\u001b[0;36m, line \u001b[0;32m3\u001b[0m\n\u001b[0;31m    a =\u001b[0m\n\u001b[0m        ^\u001b[0m\n\u001b[0;31mSyntaxError\u001b[0m\u001b[0;31m:\u001b[0m invalid syntax\n"
     ]
    }
   ],
   "source": [
    "## Del 2.1 svar\n",
    "\n",
    "a = \n",
    "\n",
    "b =\n",
    "\n",
    "c =\n",
    "\n",
    "d =\n",
    "\n",
    "e ="
   ]
  },
  {
   "cell_type": "markdown",
   "metadata": {
    "tags": []
   },
   "source": [
    "### Del 2.2\n",
    "\n",
    "Nedenfor står et program hvor vi regner ut omkrets og areal for en sirkel etter de velkjente formlene O = 2πr og A = πr2. Slik programmet er nå brukes ingen variabler. Dette gjør at når vi skal regne ut arealet av en sylinder hvor sirkelen er grunnflate, og ønsker å bruke andre verdier i utregningen, må vi endre verdien for feks radius flere steder i koden. Koden er også krevende å lese når vi ikke vet hva de ulike verdiene er.\n",
    "\n",
    "Tips: Arealet av sylinderen med høyde h vil være Omkrets_sirkel * h +  2 * Areal_sirkel, hvor det første leddet er arealet av sylinderveggen og det siste leddet er topp- og bunnlokket.\n",
    "\n",
    "Oppgave: Endre koden ved å tilordne og deretter bruke variabler for pi, radius, høyde og sirkelens omkrets og areal, slik at koden blir enklere å endre på i ettertid og tydeligere å lese."
   ]
  },
  {
   "cell_type": "code",
   "execution_count": null,
   "metadata": {},
   "outputs": [],
   "source": [
    "print(f\"Har en sirkel med radius {5} som er grunnflate i en sylinder med høyde {200}.\\n\")\n",
    "print(f\"Omkrets av sirkelen: {2 * 3.14 * 30}\") \n",
    "print(f\"Areal av sirkelen: {3.14 * 30 **2}\")\n",
    "print(f\"Areal av sylinderen: {((2 * 3.14 * 30) * 200) + (2 * (3.14 * 30**2))}\")"
   ]
  },
  {
   "cell_type": "code",
   "execution_count": 3,
   "metadata": {},
   "outputs": [],
   "source": [
    "## Del 2.2 svar\n",
    "\n"
   ]
  },
  {
   "cell_type": "markdown",
   "metadata": {},
   "source": [
    "### Del 2.3\n",
    "\n",
    "Kodebiten under fungerer ikke som den skal, selv om den kjører uten feilmelding. \n",
    "\n",
    "a) Beskriv de tre feilene i koden, og hvorfor resultatet blir som det blir når koden står slik den gjør nå.\n",
    "\n",
    "\n",
    "b) Rett opp i feilene slik at koden kjører og gir riktig output."
   ]
  },
  {
   "cell_type": "code",
   "execution_count": 6,
   "metadata": {},
   "outputs": [
    {
     "name": "stdin",
     "output_type": "stream",
     "text": [
      "Hvor mange bokser/små flasker har du?  120\n",
      "Hvor mange store flasker har du?  4\n"
     ]
    },
    {
     "name": "stdout",
     "output_type": "stream",
     "text": [
      "120 små flasker/bokser og 4 store flasker gir totalt 1201203333 kr.\n"
     ]
    }
   ],
   "source": [
    "## Del 2.3\n",
    "\n",
    "## Mira og Øyvind skal pante flasker. De prøver å skrive et program for å regne ut hvor mye pant de får for tomgodset de har. En stor flaske gir 3 kr, en liten flaske eller boks gir 2 kr.\n",
    "\n",
    "boks_flaske_sats = 2\n",
    "stor_flaske_sats = '3'\n",
    "\n",
    "ant_smaa_flasker = input('Hvor mange bokser/små flasker har du? ')\n",
    "ant_store_flasker = int(input('Hvor mange store flasker har du? '))\n",
    "\n",
    "pant_totalt = boks_flaske_sats * (ant_smaa_flasker + stor_flaske_sats) * ant_store_flasker\n",
    "\n",
    "print(f'{ant_smaa_flasker} små flasker/bokser og {ant_store_flasker} store flasker gir totalt {pant_totalt} kr.')"
   ]
  },
  {
   "cell_type": "markdown",
   "metadata": {},
   "source": [
    "#### Del 2.3a svar\n",
    "\n",
    "Feil 1: \n",
    "\n",
    "Feil 2: \n",
    "\n",
    "Feil 3:"
   ]
  },
  {
   "cell_type": "code",
   "execution_count": 36,
   "metadata": {},
   "outputs": [
    {
     "name": "stdin",
     "output_type": "stream",
     "text": [
      "Hvor mange bokser/små flasker har du?  20\n",
      "Hvor mange store flasker har du?  40\n"
     ]
    },
    {
     "name": "stdout",
     "output_type": "stream",
     "text": [
      "20 små flasker/bokser og 40 store flasker gir totalt 160 kr.\n"
     ]
    }
   ],
   "source": [
    "## Del 2.3b svar\n",
    "\n"
   ]
  },
  {
   "cell_type": "markdown",
   "metadata": {},
   "source": [
    "### Del 2.4"
   ]
  },
  {
   "cell_type": "markdown",
   "metadata": {},
   "source": [
    "Listen under er ingrediensene for å lage småkaker. Denne oppskriften gir 36 småkaker.\n",
    "\n",
    "- 250 g smør\n",
    "- 5 dl hvetemel\n",
    "- 4 dl brunt sukker\n",
    "- 2 egg\n",
    "- 1 ts bakepulver\n",
    "\n",
    "\n",
    "Skriv et program som bruker en funksjon for å printe ut en liste med justert mengde av ingrediensene for småkaker ut fra antallet småkaker som bruker ønsker å bake. Formater resultatet slik at det printes med maks 1 desimal.\n",
    "\n",
    "Her kan du skrive koden i flere enn én celle hvis du ønsker."
   ]
  },
  {
   "cell_type": "code",
   "execution_count": 7,
   "metadata": {},
   "outputs": [
    {
     "name": "stdin",
     "output_type": "stream",
     "text": [
      "Hvor mange kaker ønsker du å lage?  100\n"
     ]
    },
    {
     "name": "stdout",
     "output_type": "stream",
     "text": [
      "For å lage 100 kaker trenger du: \n",
      "     Smør:\t 694.4 g. \n",
      "     Hvetemel:  13.9 dl. \n",
      "     Brunt sukker: 11.1 dl. \n",
      "     Egg:\t 5.6 stk. \n",
      "     Bakepulver: 2.8 ts.\n"
     ]
    }
   ],
   "source": [
    "## Del 2.4 svar\n",
    "\n"
   ]
  },
  {
   "cell_type": "markdown",
   "metadata": {},
   "source": [
    "## Oppgave 3"
   ]
  },
  {
   "cell_type": "markdown",
   "metadata": {},
   "source": [
    "### Del 3.1"
   ]
  },
  {
   "cell_type": "markdown",
   "metadata": {},
   "source": [
    "I oppgave 2.2 hadde du som oppgave å forbedre koden med å lage variabler for tall som ble brukt ofte. I denne oppgaven skal du endre programmet til å bruke en funksjon. Programmet skal ta inn radius og høyde fra bruker, og lagre det i variabler som funksjonen tar inn som parametre. Deretter skal funksjonen kjøre koden som står i kodecellen under. Husk å lagre verdien for pi i en variabel inni funksjonen også. Funksjonen skal ikke returnere noe."
   ]
  },
  {
   "cell_type": "code",
   "execution_count": 85,
   "metadata": {},
   "outputs": [
    {
     "name": "stdout",
     "output_type": "stream",
     "text": [
      "Har en sirkel med radius 5.4 som er grunnflate i en sylinder med høyde 7.9.\n",
      "\n",
      "Omkrets av sirkelen: 33.9\n",
      "Areal av sirkelen: 91.6\n",
      "Areal av sylinderen: 451.0\n"
     ]
    }
   ],
   "source": [
    "print(f\"Har en sirkel med radius {radius} som er grunnflate i en sylinder med høyde {hoyde}.\\n\")\n",
    "print(f\"Omkrets av sirkelen: {2 * pi * radius:.1f}\") \n",
    "print(f\"Areal av sirkelen: {pi * radius **2:.1f}\")\n",
    "print(f\"Areal av sylinderen: {((2 * pi * radius) * hoyde) + (2 * (pi * radius**2)):.1f}\")"
   ]
  },
  {
   "cell_type": "code",
   "execution_count": 1,
   "metadata": {},
   "outputs": [],
   "source": [
    "# Del 3.1 svar\n"
   ]
  },
  {
   "cell_type": "code",
   "execution_count": null,
   "metadata": {},
   "outputs": [],
   "source": []
  }
 ],
 "metadata": {
  "kernelspec": {
   "display_name": "Python 3 (ipykernel)",
   "language": "python",
   "name": "python3"
  },
  "language_info": {
   "codemirror_mode": {
    "name": "ipython",
    "version": 3
   },
   "file_extension": ".py",
   "mimetype": "text/x-python",
   "name": "python",
   "nbconvert_exporter": "python",
   "pygments_lexer": "ipython3",
   "version": "3.9.7"
  },
  "toc": {
   "base_numbering": 1,
   "nav_menu": {},
   "number_sections": true,
   "sideBar": true,
   "skip_h1_title": false,
   "title_cell": "Table of Contents",
   "title_sidebar": "Contents",
   "toc_cell": false,
   "toc_position": {},
   "toc_section_display": true,
   "toc_window_display": false
  },
  "toc-autonumbering": false
 },
 "nbformat": 4,
 "nbformat_minor": 4
}
