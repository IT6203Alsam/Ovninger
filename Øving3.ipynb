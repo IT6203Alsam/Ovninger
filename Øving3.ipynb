{
 "cells": [
  {
   "cell_type": "markdown",
   "metadata": {},
   "source": [
    "# Øving 3: Avanserte datatyper"
   ]
  },
  {
   "cell_type": "markdown",
   "metadata": {},
   "source": [
    "VIKTIG!\n",
    "\n",
    "Minst 4 av 6 oppgaver må løses for å få godkjent øvingen.\n",
    "Dersom ikke annet er oppgitt skal koden for hver programmeringsoppgave bestå av èn celle med hele programkoder.\n",
    "\n",
    "\n",
    "Celler med \"[ ]:\" foran er kode-celler som kan kjøre kode. Ellers er cellene tekstbokser.\n",
    "En celle (både tekst og kode) kjøres hvis du markerer den og trykker SHIFT+ENTER. Se guide for utfyllende informasjon om hvordan man bruker jupyter notebooks.\n",
    "\n",
    "Last ned øvingen fra jupyter til din pc som .ipynb-fil (se guide) og last den opp i Blackboard for å levere den. "
   ]
  },
  {
   "cell_type": "markdown",
   "metadata": {},
   "source": [
    "## Oppgave 1"
   ]
  },
  {
   "cell_type": "markdown",
   "metadata": {},
   "source": [
    "### Del 1.1\n",
    "Lag en funksjon som tar inn et navn. Funksjonen skal snu rekkefølgen på bokstavene i navnet, og returnere navnet stavet baklengs.\n",
    "La brukeren skrive inn et navn som skal sendes til funksjonen."
   ]
  },
  {
   "cell_type": "code",
   "execution_count": null,
   "metadata": {},
   "outputs": [],
   "source": [
    "# Del 1.1 svar"
   ]
  },
  {
   "cell_type": "markdown",
   "metadata": {},
   "source": [
    "## Oppgave 2 "
   ]
  },
  {
   "cell_type": "markdown",
   "metadata": {},
   "source": [
    "### Del 2.1 "
   ]
  },
  {
   "cell_type": "markdown",
   "metadata": {},
   "source": [
    "a) I øving 2 hjalp du en entomolog å skrive et program for å registrere antall målinger han hadde gjort av larver. Nå ønsker han at du utvider programmet for å også registrere målingene i en liste. Ta inn målingene én og én, og legg dem til i en liste helt til du har 15 stk. Print listen ut til konsoll.\n",
    "\n",
    "b) Skriv en funksjon som analyserer målingene som er gjort: regn ut og print gjennomsnittet av målingene, samt standardavvik. Til dette kan du bruke innebygde funksjoner fra biblioteker som *math* eller *numpy*. "
   ]
  },
  {
   "cell_type": "markdown",
   "metadata": {
    "tags": []
   },
   "source": [
    "### Del 2.2\n",
    "\n",
    "Print-setningen skal skrive ut \"Vurderingen av om du kommer inn eller ikker er: og \"Ja\" eller\n",
    "\"Nei\", ut fra hvilken alder som blir gitt som argument til funksjonen inngangTillat(). Hvorfor blir ikke resultatet\n",
    "riktig? Rett opp koden så den kjører."
   ]
  },
  {
   "cell_type": "code",
   "execution_count": 2,
   "metadata": {},
   "outputs": [
    {
     "name": "stdout",
     "output_type": "stream",
     "text": [
      "Ja\n",
      "Vurderingen av om du kommer inn er: None\n"
     ]
    }
   ],
   "source": [
    "def inngangTillatt(alder):\n",
    "    grense = 18\n",
    "    \n",
    "    if alder < grense:\n",
    "        inngang = 'Nei'\n",
    "    elif alder >= grense:\n",
    "        inngang = 'Ja'\n",
    "    else:\n",
    "        print('Ugyldig alder')\n",
    "    \n",
    "    print(inngang)\n",
    "    \n",
    "person1 = inngangTillatt(23)\n",
    "\n",
    "print('Vurderingen av om du kommer inn er:', person1)"
   ]
  },
  {
   "cell_type": "code",
   "execution_count": null,
   "metadata": {},
   "outputs": [],
   "source": []
  },
  {
   "cell_type": "markdown",
   "metadata": {},
   "source": [
    "### Del 2.3\n",
    "\n",
    "I denne oppgaven skal du ved hjelp av en nøstet liste liste printe ut den lille gangetabellen (1-10) til konsoll."
   ]
  },
  {
   "cell_type": "code",
   "execution_count": 1,
   "metadata": {
    "tags": []
   },
   "outputs": [],
   "source": [
    "### Den lille gangetabellen\n"
   ]
  },
  {
   "cell_type": "markdown",
   "metadata": {},
   "source": [
    "### Del 2.4"
   ]
  },
  {
   "cell_type": "markdown",
   "metadata": {},
   "source": [
    "### Analyse av Trontalen 2021\n",
    "\n",
    "Skriv et program som tar inn Trontalen for 2021, gjengitt under, som én lang string-variabel, og utfør følgende analyse:\n",
    "\n",
    "* Tell antall ord i teksten og print antallet ut til konsoll\n",
    "* Tell antall setninger i teksten og print antallet ut til konsoll\n",
    "* Beregn gjennomsnittlig antall ord i hver setning og print til konsoll\n",
    "* Tell hvor mange ganger hver bokstav i alfabetet forekommer i teksten, og skriv en sortert liste som går fra høyest til lavest til konsoll. \n",
    "\n",
    "_Tips: mellomrom kan definere slutten av et ord, og punktum kan definere slutten av en setning._\n",
    "\n",
    "Ærede President, Folkets representanter. Jeg hilser Stortinget velkommen til ansvarsfullt arbeid og ønsker at det må bli til gagn for fedrelandet. Etter halvannet år har koronaviruset løsnet sitt grep om vår hverdag. Norge har klart seg bedre gjennom pandemien enn de fleste andre land. Tiltakene har vært byrdefulle for mange. Men færre har mistet livet og flere har vært i jobb sammenlignet med andre land. Raske og effektive tiltak har begrenset spredningen av viruset. God etterlevelse og oppslutning om tiltakene har vært nødvendig. Samarbeidet med EU om anskaffelse av vaksiner har gitt oss en vei ut av pandemien. Regjeringen har etablert beredskapslagre for smittevernutstyr og medisiner. Arbeid er satt i gang for å øke intensivkapasiteten. Regjeringen vil opprettholde en høy beredskap for nye virusvarianter. Regjeringen vil i den kommende perioden særlig prioritere to store utfordringer for Norge: Begrense utslippene av klimagasser og inkludere flere i arbeidslivet. Farlige klimaendringer er vår tids største utfordring. Norge skal redusere egne utslipp av klimagasser i tråd med våre internasjonale forpliktelser. I tillegg skal vi støtte fattige land i deres arbeid. Norske utslipp går ned. I forrige periode la regjeringen frem planen for ytterligere utslippskutt frem mot 2030. Nå skal denne planen iverksettes. Det viktigste tiltaket er at prisen for å slippe ut klimagasser må gå opp. Det er nødvendig for å skape et marked for nye, klimavennlige løsninger og ny teknologi. Regjeringen vil derfor fremme forslag om økt pris på utslipp av gasser som bidrar til klimaendringene. Øvrige skatter og avgifter skal senkes, slik at samlet skattenivå ikke øker. Regjeringen vil også fremme forslag om et nytt og mer nøytralt skattesystem for petroleumssektoren. Regjeringen vil følge opp veikartet for hydrogen og fortsette byggingen av anlegg for fangst og lagring av CO2. \n",
    "Og så snart som mulig skal selskaper kunne søke konsesjon for utbygging av havvind i åpnede områder. God sameksistens med eksisterende næringer skal ivaretas. Regjeringen vil legge til rette for videre elektrifisering av og fortsatt sikker tilgang på strøm for norsk industri og transport. Regjeringen vil styrke Grønn plattform som støtter opp om økt verdiskaping innenfor bærekraftige rammer. Et nytt fond som skal investere i fornybar energi i utviklingsland, skal bygges opp over fem år. Den andre store utfordringen er å inkludere flere i arbeidslivet. Den økonomiske aktiviteten i Norge tar seg raskt opp. Det er nå flere sysselsatte i befolkningen enn før pandemien kom. Stadig færre går ledige. Det blir stadig flere ledige stillinger. Perspektivmeldingen viser at vi trenger flere lønnsomme jobber og flere i arbeid for å finansiere velferden når bidraget fra oljeaktiviteten reduseres. Allerede nå ser vi mangel på kvalifisert arbeidskraft flere steder. Det er både en utfordring og en mulighet. En utfordring fordi mangel på arbeidskraft gir mindre verdiskaping og velferd i samfunnet. En mulighet fordi det er mange flere som kan og vil arbeide i vårt samfunn. Den muligheten vil regjeringen gripe. Regjeringen vil gjennomføre fullføringsreformen slik at flere blir kvalifisert for arbeidslivet og videre studier. Utdanningsløftet skal fortsette. Regjeringen vil følge opp strategien for desentralisert og fleksibel utdanning ved fagskoler, høyskoler og universiteter for å styrke tilgangen på kompetanse både i byene og distriktene. Muligheten for stedsuavhengige arbeidsplasser gjør det mulig å jobbe fra der man måtte ønske. Arbeidet for inkludering i arbeidslivet må styrkes ytterligere. Den nye NAV-strategien skal gi økt innovasjon og bedre tjenester på arbeids- og velferdsfeltet. Regjeringen vil gjøre det enklere å ta utdanning samtidig som man mottar offentlige ytelser til livsopphold. Kompetansereformen skal bidra til at ingen som er i jobb, går ut på dato i vårt arbeidsliv. Flere i arbeid er den viktigste forutsetningen for et samfunn med mindre fattigdom og små forskjeller. Pandemien har vist at godt internasjonalt samarbeid er god beredskap. Norge har vært avhengig av EU for effektiv tilgang til vaksiner. EØS-avtalen bidro til å lette importen av smittevernutstyr. Norge har også hjulpet andre land som har vært mer alvorlig rammet enn oss. Pandemien har rammet mange fattige land hardt. Regjeringen vil fortsette arbeidet for likeverdig tilgang til covid-19-vaksiner, diagnostikk og tester globalt. Norge skal fortsatt være en pådriver for at FNs bærekraftsmål skal nås. Både i Norge og internasjonalt. Regjeringen vil gjennom medlemskapet i FNs sikkerhetsråd arbeide for et sterkt og velfungerende internasjonalt samarbeid for å ivareta global sikkerhet og fred. Regjeringen vil basere sin politikk på sterk støtte til EØS-avtalen og NATO-medlemskapet. Et godt nordisk samarbeid bygger opp om dette. Disse avtalene representerer et verdifellesskap Norge deler med våre nærmeste samarbeidspartnere. De er en forutsetning for norske arbeidsplasser og vår nasjonale sikkerhet. Og de er en avgjørende del av Norges beredskap mot kriser. Regjeringen vil videreføre arbeidet for å skape et bærekraftig velferdssamfunn. Endringer i skattesystemet skal gjøre det mer lønnsomt å jobbe og mer lønnsomt å investere i norske arbeidsplasser. Regjeringen vil fortsette den historiske satsingen på samferdsel. Regjeringen vil følge opp den nye nasjonale strategien for sosial boligpolitikk. Stadig færre er bostedsløse i Norge og den positive utviklingen må fortsette. Bostøtten skal styrkes, og regjeringen vil prioritere midler til boliglån i distriktene. Regjeringen vil styrke kompetansen i barnevernet for å forbedre tjenesten og forberede kommunene på økt ansvar. Det vil bli tatt initiativ til å oppheve aktivitetskravet tilsvarende fedrekvoten, slik at alle fedre med opptjente foreldrepengerettigheter kan ta ut fedrekvoten. Regjeringen vil utvide tilbudet om helsekartlegging for barn i barnevernet som skal flyttes ut av hjemmet. Målet er å identifisere barn som trenger hjelp på et tidligere tidspunkt. Regjeringen vil utvide fritidskortet for å senke den økonomiske terskelen for at barn kan delta i fritidsaktiviteter. Tilbudet til barn og unge med psykiske helseutfordringer skal styrkes videre, og det skal utdannes flere fagfolk til tjenestene. Regjeringen vil sette ned et partssammensatt utvalg for å styrke heltidskultur i helsetjenesten. Regjeringen vil ta initiativ til en pilot med investeringstilskudd til trygghetsboliger for eldre i distriktene. Målet er at flere eldre som selv ønsker det, skal kunne bo i eget hjem. Regjeringen vil fortsette arbeidet med å reformere og effektivisere offentlig sektor. Med lavere vekst i Statens pensjonsfond utland og en aldrende befolkning, vil handlingsrommet på budsjettene etter hvert bli klart mindre enn vi har vært vant til. Regjeringen vil fase ut den ekstraordinære bruken av oljepenger knyttet til koronapandemien. Mer effektiv bruk av fellesskapets ressurser vil bidra til at vi fortsatt kan løse utfordringer vårt samfunn stilles overfor. Digitalisering, forenkling og modernisering kan frigjøre store ressurser til velferd. Regjeringen vil videreføre og forsterke dette arbeidet. Stortingsvalget ga en ny politisk sammensetning av Stortinget. Den parlamentariske situasjonen vil kunne endre grunnlaget for det videre arbeidet med flere av de bebudede sakene. Jeg ber Gud velsigne Stortingets arbeid, og erklærer Norges 166. storting for åpnet."
   ]
  },
  {
   "cell_type": "markdown",
   "metadata": {},
   "source": [
    "## Oppgave 3"
   ]
  },
  {
   "cell_type": "markdown",
   "metadata": {},
   "source": [
    "### Del 3.1\n",
    "\n",
    "Analyse av værdata\n",
    "\n",
    "Under har du en dictionary med fiktive data fra været den siste måneden i Trondheim. Dict'en består av følgende: dato (key), og values som er en liste der første element er gj.snittlig mm regn pr døgn (regn_dag), andre er gj.snittlig grader celcius for hvert døgn (temp_dag), og tredje er gj.snittlig vindstyrke m/s pr døgn (vind_dag). Skriv et program som tar inn denne informasjonen, og ved hjelp av funksjoner deretter finner:\n",
    "\n",
    "* Den uka med mest regn i gjennomsnitt\n",
    "* Døgnet med lavest temperatur\n",
    "* Den høyeste vindstyrken som ble målt\n",
    "\n",
    "_For nysgjerrige: et eksempel på hvordan man genererer en dict med fiktive værdata finner du helt nederst i notebook'en._"
   ]
  },
  {
   "cell_type": "code",
   "execution_count": 66,
   "metadata": {},
   "outputs": [],
   "source": [
    "trondheim_vaer = {1: [8, 25, 8],\n",
    " 2: [31, 10, 5],\n",
    " 3: [19, 23, 3],\n",
    " 4: [4, 20, 2],\n",
    " 5: [9, 24, 4],\n",
    " 6: [10, 20, 8],\n",
    " 7: [40, 22, 8],\n",
    " 8: [35, 22, 8],\n",
    " 9: [10, 15, 2],\n",
    " 10: [8, 16, 10],\n",
    " 11: [17, 25, 7],\n",
    " 12: [6, 14, 7],\n",
    " 13: [35, 25, 5],\n",
    " 14: [31, 24, 1],\n",
    " 15: [29, 16, 8],\n",
    " 16: [30, 21, 6],\n",
    " 17: [13, 20, 6],\n",
    " 18: [34, 25, 0],\n",
    " 19: [37, 11, 2],\n",
    " 20: [0, 22, 4],\n",
    " 21: [32, 22, 5],\n",
    " 22: [20, 13, 0],\n",
    " 23: [23, 17, 15],\n",
    " 24: [8, 12, 1],\n",
    " 25: [27, 20, 0],\n",
    " 26: [34, 20, 4],\n",
    " 27: [4, 24, 3],\n",
    " 28: [22, 15, 1],\n",
    " 29: [38, 23, 8],\n",
    " 30: [29, 21, 3],\n",
    " 31: [26, 13, 10]}"
   ]
  },
  {
   "cell_type": "code",
   "execution_count": null,
   "metadata": {},
   "outputs": [],
   "source": []
  },
  {
   "cell_type": "code",
   "execution_count": null,
   "metadata": {},
   "outputs": [],
   "source": []
  },
  {
   "cell_type": "code",
   "execution_count": null,
   "metadata": {
    "jupyter": {
     "source_hidden": true
    },
    "tags": []
   },
   "outputs": [],
   "source": [
    "### Kode for å generere fiktive værdata for 31 dager ###\n",
    "\n",
    "import random\n",
    "\n",
    "def get_weather():\n",
    "    regn = random.randint(0,40)\n",
    "    grader = random.randint(10,25)\n",
    "    vind = random.randint(0,15)\n",
    "    \n",
    "    return regn, grader, vind\n",
    "\n",
    "dager = list(range(1,32))\n",
    "\n",
    "print(dager)\n",
    "\n",
    "trondheim_vaer = {}\n",
    "\n",
    "for i in dager:\n",
    "    trondheim_vaer[i] = list(get_weather())"
   ]
  }
 ],
 "metadata": {
  "kernelspec": {
   "display_name": "Python 3 (ipykernel)",
   "language": "python",
   "name": "python3"
  },
  "language_info": {
   "codemirror_mode": {
    "name": "ipython",
    "version": 3
   },
   "file_extension": ".py",
   "mimetype": "text/x-python",
   "name": "python",
   "nbconvert_exporter": "python",
   "pygments_lexer": "ipython3",
   "version": "3.9.7"
  },
  "toc": {
   "base_numbering": 1,
   "nav_menu": {},
   "number_sections": true,
   "sideBar": true,
   "skip_h1_title": false,
   "title_cell": "Table of Contents",
   "title_sidebar": "Contents",
   "toc_cell": false,
   "toc_position": {},
   "toc_section_display": true,
   "toc_window_display": false
  }
 },
 "nbformat": 4,
 "nbformat_minor": 4
}
